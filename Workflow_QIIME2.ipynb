{
  "nbformat": 4,
  "nbformat_minor": 0,
  "metadata": {
    "colab": {
      "provenance": [],
      "collapsed_sections": [
        "V3wAoY5qG__P",
        "BglSusnDBa3Z",
        "mlcSxmo__jZ1",
        "9CAh9VblTFXl",
        "rmBUbICsTGBG",
        "3UPCeMiNTGWG",
        "B9bNOa-rUnoZ",
        "Dden1pK53yOt",
        "AqDUKg2LUyg0"
      ],
      "include_colab_link": true
    },
    "kernelspec": {
      "name": "python3",
      "display_name": "Python 3"
    },
    "language_info": {
      "name": "python"
    }
  },
  "cells": [
    {
      "cell_type": "markdown",
      "metadata": {
        "id": "view-in-github",
        "colab_type": "text"
      },
      "source": [
        "<a href=\"https://colab.research.google.com/github/DeborahLeite/metabacording_class/blob/main/Workflow_QIIME2.ipynb\" target=\"_parent\"><img src=\"https://colab.research.google.com/assets/colab-badge.svg\" alt=\"Open In Colab\"/></a>"
      ]
    },
    {
      "cell_type": "markdown",
      "source": [
        "# Instalando QIIME 2"
      ],
      "metadata": {
        "id": "V3wAoY5qG__P"
      }
    },
    {
      "cell_type": "markdown",
      "source": [
        "1. Baixar e instalar o Miniconda, o conda ambiente e gerenciador de pacotes recomendado pra instalação do QIIME2"
      ],
      "metadata": {
        "id": "nCuatdde-00l"
      }
    },
    {
      "cell_type": "code",
      "source": [
        "https://conda.io/projects/conda/en/latest/user-guide/install/download.html#"
      ],
      "metadata": {
        "id": "VA1UyCTI-4EP"
      },
      "execution_count": null,
      "outputs": []
    },
    {
      "cell_type": "markdown",
      "source": [
        "2. Depois de instalar o Miniconda e abrir um novo terminal, verifique se você está executando a versão mais recente de conda:"
      ],
      "metadata": {
        "id": "Emmxj0ZcATSZ"
      }
    },
    {
      "cell_type": "code",
      "source": [
        "conda update conda"
      ],
      "metadata": {
        "id": "_Vt4RuRC-_Ez"
      },
      "execution_count": null,
      "outputs": []
    },
    {
      "cell_type": "markdown",
      "source": [
        "3. Instalar wget para baixar o qiime2"
      ],
      "metadata": {
        "id": "qArDrcVOAOZ6"
      }
    },
    {
      "cell_type": "code",
      "source": [
        "conda install wget"
      ],
      "metadata": {
        "id": "AcJbx4Uy_DNV"
      },
      "execution_count": null,
      "outputs": []
    },
    {
      "cell_type": "markdown",
      "source": [
        "4. Instalar o QIIME2 em ambiente conda (MacOS e Linux)"
      ],
      "metadata": {
        "id": "6t2DuSMIAJL_"
      }
    },
    {
      "cell_type": "code",
      "source": [
        "wget https://data.qiime2.org/distro/core/qiime2-2023.2-py38-osx-conda.yml\n",
        "conda env create -n qiime2-2023.2 --file qiime2-2023.2-py38-osx-conda.yml"
      ],
      "metadata": {
        "id": "sRWDRUi5_Dpb"
      },
      "execution_count": null,
      "outputs": []
    },
    {
      "cell_type": "markdown",
      "source": [
        "5. Ative o ambiente conda"
      ],
      "metadata": {
        "id": "ZpEbwzqnACka"
      }
    },
    {
      "cell_type": "code",
      "source": [
        "conda activate qiime2-2023.2"
      ],
      "metadata": {
        "id": "mt3YPryO_2Z5"
      },
      "execution_count": null,
      "outputs": []
    },
    {
      "cell_type": "markdown",
      "source": [
        "6. Teste sua instalação"
      ],
      "metadata": {
        "id": "PwDnla5s_-ER"
      }
    },
    {
      "cell_type": "code",
      "source": [
        "qiime --help"
      ],
      "metadata": {
        "id": "znRotfgg_4S8"
      },
      "execution_count": null,
      "outputs": []
    },
    {
      "cell_type": "markdown",
      "source": [
        "# Download de classificadores taxonômicos:"
      ],
      "metadata": {
        "id": "BglSusnDBa3Z"
      }
    },
    {
      "cell_type": "markdown",
      "source": [
        "Consulte: https://docs.qiime2.org/2023.2/data-resources/#data-resources"
      ],
      "metadata": {
        "id": "24gp7SawBimP"
      }
    },
    {
      "cell_type": "markdown",
      "source": [
        "# Importando dados"
      ],
      "metadata": {
        "id": "mlcSxmo__jZ1"
      }
    },
    {
      "cell_type": "code",
      "source": [
        "cd Documents/Example_Dataset"
      ],
      "metadata": {
        "id": "o1ckIzrJU5J1"
      },
      "execution_count": null,
      "outputs": []
    },
    {
      "cell_type": "code",
      "source": [
        "qiime tools import  \\\n",
        "--type 'SampleData[PairedEndSequencesWithQuality]'  \\\n",
        "--input-path manifestfile.csv \\\n",
        "--output-path demux-paired-end.qza \\\n",
        "--input-format PairedEndFastqManifestPhred33\n"
      ],
      "metadata": {
        "id": "-SQfUJ_aWD8Y"
      },
      "execution_count": null,
      "outputs": []
    },
    {
      "cell_type": "code",
      "source": [
        "qiime demux summarize \\\n",
        "--i-data demux-paired-end.qza \\\n",
        "--o-visualization demux-paired-end.qzv"
      ],
      "metadata": {
        "id": "kVf8rGF-W7Fs"
      },
      "execution_count": null,
      "outputs": []
    },
    {
      "cell_type": "markdown",
      "source": [
        "# Controle de qualidade das sequências, *Pair joining* e *Clustering*"
      ],
      "metadata": {
        "id": "9CAh9VblTFXl"
      }
    },
    {
      "cell_type": "markdown",
      "source": [
        "**Usando DADA2**"
      ],
      "metadata": {
        "id": "qCtyntHfXgAY"
      }
    },
    {
      "cell_type": "code",
      "source": [
        "mkdir ASVS_DADA2"
      ],
      "metadata": {
        "id": "2-vdbjwuXEy-"
      },
      "execution_count": null,
      "outputs": []
    },
    {
      "cell_type": "code",
      "source": [
        "qiime dada2 denoise-paired \\\n",
        "--i-demultiplexed-seqs demux-paired-end.qza \\\n",
        "--o-table ASVS_DADA2/asv_table.qza \\\n",
        "--o-representative-sequences ASVS_DADA2/rep-seqs.qza  \\\n",
        "--o-denoising-stats ASVS/denoising-stats.qza \\\n",
        "--p-trim-left-f 15 \\\n",
        "--p-trim-left-r 15 \\\n",
        "--p-trunc-len-f 145 \\\n",
        "--p-trunc-len-r 145"
      ],
      "metadata": {
        "id": "oGcBZ_1HXI-O"
      },
      "execution_count": null,
      "outputs": []
    },
    {
      "cell_type": "code",
      "source": [
        "cp metadatafile.tsv ASVS_DADA2/metadatafile.tsv\n",
        "cd ASVS_DADA2"
      ],
      "metadata": {
        "id": "FeFFgD_dXbp-"
      },
      "execution_count": null,
      "outputs": []
    },
    {
      "cell_type": "markdown",
      "source": [
        "Visualização dos dados"
      ],
      "metadata": {
        "id": "lAM10Rx2XxSR"
      }
    },
    {
      "cell_type": "code",
      "source": [
        "qiime feature-table summarize \\\n",
        "  --i-table asv_table.qza \\\n",
        "  --o-visualization asv_table.qzv \\\n",
        "  --m-sample-metadata-file metadatafile.tsv\n",
        " \n",
        "qiime feature-table tabulate-seqs \\\n",
        "  --i-data rep-seqs.qza \\\n",
        "  --o-visualization rep-seqs.qzv\n",
        " \n",
        "qiime metadata tabulate \\\n",
        "  --m-input-file denoising-stats.qza \\\n",
        "  --o-visualization denoising-stats.qzv"
      ],
      "metadata": {
        "id": "Ghlmddp9Xtae"
      },
      "execution_count": null,
      "outputs": []
    },
    {
      "cell_type": "markdown",
      "source": [
        "**Usando Deblur**"
      ],
      "metadata": {
        "id": "kjOWfe_YXkCj"
      }
    },
    {
      "cell_type": "code",
      "source": [
        "mkdir ASVS_DEBLUR"
      ],
      "metadata": {
        "id": "Bq_g5V1sXmQD"
      },
      "execution_count": null,
      "outputs": []
    },
    {
      "cell_type": "code",
      "source": [
        "qiime quality-filter q-score \\\n",
        "--i-demux demux-paired-end.qza \\\n",
        "--o-filtered-sequences ASVS_DEBLUR/demux-q30-filtered.qza \\\n",
        "--o-filter-stats ASVS_DEBLUR/demux-q30-filter-stats.qza \\\n",
        "--p-min-quality 30\n",
        " \n",
        "qiime demux summarize \\\n",
        "--i-data ASVS_DEBLUR/demux-q30-filtered.qza  \\\n",
        "--o-visualization ASVS_DEBLUR/demux-q30-filtered.qzv\n",
        " \n",
        " \n",
        "qiime metadata tabulate \\\n",
        "--m-input-file ASVS_DEBLUR/demux-q30-filter-stats.qza \\\n",
        "--o-visualization ASVS_DEBLUR/demux-q30-filter-stats.qzv"
      ],
      "metadata": {
        "id": "3J5fkLabaqm9"
      },
      "execution_count": null,
      "outputs": []
    },
    {
      "cell_type": "code",
      "source": [
        "cp metadatafile.tsv ASVS_DEBLUR/metadatafile.tsv\n",
        "cd ASVS_DEBLUR"
      ],
      "metadata": {
        "id": "_15OhPLja32a"
      },
      "execution_count": null,
      "outputs": []
    },
    {
      "cell_type": "code",
      "source": [
        "qiime deblur denoise-16S \\\n",
        "--i-demultiplexed-seqs demux-q30-filtered.qza \\\n",
        "--o-representative-sequences rep-seqs.qza \\\n",
        "--o-table asv_table.qza \\\n",
        "--p-sample-stats \\\n",
        "--o-stats deblur-stats.qza \\\n",
        "--p-trim-length 140\n",
        " \n",
        "qiime feature-table tabulate-seqs \\\n",
        "--i-data rep-seqs.qza \\\n",
        "--o-visualization rep-seqs.qzv\n",
        " \n",
        "qiime deblur visualize-stats \\\n",
        "--i-deblur-stats deblur-stats.qza \\\n",
        "--o-visualization deblur-stats.qzv\n",
        " \n",
        "qiime feature-table summarize \\\n",
        "--i-table asv_table.qza \\\n",
        "--o-visualization asv_table.qzv \\\n",
        "--m-sample-metadata-file metadatafile.tsv"
      ],
      "metadata": {
        "id": "g32S1mN8a8-6"
      },
      "execution_count": null,
      "outputs": []
    },
    {
      "cell_type": "markdown",
      "source": [
        "# Construção de árvore filogenética"
      ],
      "metadata": {
        "id": "rmBUbICsTGBG"
      }
    },
    {
      "cell_type": "markdown",
      "source": [
        "A partir daqui foram usados apenas os arquivos de saída do DADA2"
      ],
      "metadata": {
        "id": "cGLGSruAZmwC"
      }
    },
    {
      "cell_type": "code",
      "source": [
        "qiime alignment mafft \\\n",
        "--i-sequences rep-seqs.qza \\\n",
        "--o-alignment aligned-rep-seqs.qza\n",
        " \n",
        "qiime alignment mask \\\n",
        "--i-alignment aligned-rep-seqs.qza \\\n",
        "--o-masked-alignment masked-aligned-rep-seqs.qza\n",
        " \n",
        "qiime phylogeny fasttree \\\n",
        "--i-alignment masked-aligned-rep-seqs.qza \\\n",
        "--o-tree unrooted-tree.qza\n",
        " \n",
        "qiime phylogeny midpoint-root \\\n",
        "--i-tree unrooted-tree.qza \\\n",
        "--o-rooted-tree rooted-tree.qza"
      ],
      "metadata": {
        "id": "1wso2SR5ZhBe"
      },
      "execution_count": null,
      "outputs": []
    },
    {
      "cell_type": "markdown",
      "source": [
        "# Remoção de sequências de Archaea, mitocôndrias e cloroplastos"
      ],
      "metadata": {
        "id": "3UPCeMiNTGWG"
      }
    },
    {
      "cell_type": "code",
      "source": [
        "qiime taxa filter-table  \\\n",
        "--i-table asv_table.qza  \\\n",
        "--i-taxonomy taxonomy.qza  \\\n",
        "--p-exclude mitochondria,chloroplast,archaea  \\\n",
        "--o-filtered-table asv-table-woAMC.qza\n",
        "\n",
        "qiime feature-table summarize \\\n",
        "  --i-table asv-table-woAMC.qza \\\n",
        "  --o-visualization asv-table-woAMC.qzv "
      ],
      "metadata": {
        "id": "YjFZl9hyTcaS"
      },
      "execution_count": null,
      "outputs": []
    },
    {
      "cell_type": "markdown",
      "source": [
        "# Identificação taxonômica"
      ],
      "metadata": {
        "id": "B9bNOa-rUnoZ"
      }
    },
    {
      "cell_type": "markdown",
      "source": [
        "Tempo estimado 36 min (DADA2), 16 min (Deblur)."
      ],
      "metadata": {
        "id": "dwCUUOJi1oZB"
      }
    },
    {
      "cell_type": "code",
      "source": [
        "qiime feature-classifier classify-sklearn \\\n",
        "--i-classifier silva-138-99-nb-classifier.qza \\\n",
        "--i-reads rep-seqs.qza \\\n",
        "--o-classification taxonomy.qza\n",
        " \n",
        "qiime metadata tabulate \\\n",
        "--m-input-file taxonomy.qza \\\n",
        "--o-visualization taxonomy.qzv"
      ],
      "metadata": {
        "id": "6JEYNwgp1UaS"
      },
      "execution_count": null,
      "outputs": []
    },
    {
      "cell_type": "markdown",
      "source": [
        "# Unir ASV table e taxonomy table"
      ],
      "metadata": {
        "id": "Dden1pK53yOt"
      }
    },
    {
      "cell_type": "markdown",
      "source": [
        "1. Tabela de ASV filtrada (sem Archaea, mitocôndrias e cloroplastos) para fazer a rarefação no R."
      ],
      "metadata": {
        "id": "KuwqmnPB4Io3"
      }
    },
    {
      "cell_type": "code",
      "source": [
        "qiime taxa collapse \\\n",
        "--i-table asv-table-woAMC.qza \\\n",
        "--i-taxonomy taxonomy.qza \\\n",
        "--o-collapsed-table collapsed-asv-table-woAMC.qza \\\n",
        "--p-level 7\n",
        "\n",
        "qiime metadata tabulate  \\\n",
        "--m-input-file collapsed-asv-table-woAMC.qza \\\n",
        "--o-visualization collapsed-asv-table-woAMC.qzv\n",
        "\n",
        "qiime tools extract  \\\n",
        "--input-path collapsed-asv-table-woAMC.qza  \\\n",
        "--output-path feature-collapsed-asv-table-woAMC\n"
      ],
      "metadata": {
        "id": "DlCoVyh94opK"
      },
      "execution_count": null,
      "outputs": []
    },
    {
      "cell_type": "markdown",
      "source": [
        "1.1. Converter tabela para formato BIOM e depois TSV"
      ],
      "metadata": {
        "id": "i2vZo4o59zcW"
      }
    },
    {
      "cell_type": "markdown",
      "source": [
        "* O código *d24fc059-784a-4d3c-8c8b-6746135f614b* irá variar, por isso use TAB."
      ],
      "metadata": {
        "id": "929IQE6B-Afc"
      }
    },
    {
      "cell_type": "code",
      "source": [
        "mv feature-collapsed-asv-table-woAMC/d24fc059-784a-4d3c-8c8b-6746135f614b/data/feature-table.biom \\\n",
        "feature-collapsed-asv-table-woAMC/feature-table.biom\n",
        " \n",
        "biom convert -i feature-collapsed-asv-table-woAMC/feature-table.biom \\\n",
        "-o feature-collapsed-asv-table-woAMC/feature-table.tsv \\\n",
        "--to-tsv \\\n",
        "--header-key taxonomy"
      ],
      "metadata": {
        "id": "5VpI_np69zEE"
      },
      "execution_count": null,
      "outputs": []
    },
    {
      "cell_type": "markdown",
      "source": [
        "2. Tabela de ASV rarificada usando **qiime diversity core-metrics-phylogenetic**"
      ],
      "metadata": {
        "id": "tzYu9tZK4W06"
      }
    },
    {
      "cell_type": "code",
      "source": [
        "qiime taxa collapse \\\n",
        "--i-table core-metrics-results/rarefied_table.qza \\\n",
        "--i-taxonomy taxonomy.qza \\\n",
        "--o-collapsed-table core-metrics-results/collapsed_table.qza \\\n",
        "--p-level 7\n",
        " \n",
        "qiime metadata tabulate  \\\n",
        "--m-input-file core-metrics-results/collapsed_table.qza  \\\n",
        "--o-visualization core-metrics-results/collapsed_table.qzv"
      ],
      "metadata": {
        "id": "SfO_as-o4ndT"
      },
      "execution_count": null,
      "outputs": []
    },
    {
      "cell_type": "markdown",
      "source": [
        "2.1. Converter tabela para formato BIOM e depois TSV"
      ],
      "metadata": {
        "id": "NMs0rCb06dEL"
      }
    },
    {
      "cell_type": "markdown",
      "source": [
        "* O código *5b8a8623-f743-45c9-8d56-5cdc6aefcaeb* irá variar, por isso use TAB."
      ],
      "metadata": {
        "id": "l5Or0srn-OZr"
      }
    },
    {
      "cell_type": "code",
      "source": [
        "qiime tools extract  \\\n",
        "--input-path core-metrics-results/collapsed_table.qza  \\\n",
        "--output-path feature-collapsed-table\n",
        "\n",
        "mv feature-collapsed-table/5b8a8623-f743-45c9-8d56-5cdc6aefcaeb/data/feature-table.biom feature-collapsed-table\\feature-table.biom\n",
        "\n",
        "biom convert  \\\n",
        "-i feature-collapsed-table/feature-table.biom  \\\n",
        "-o feature-collapsed-table/feature-table.tsv  \\\n",
        "--to-tsv  \\\n",
        "--header-key taxonomy"
      ],
      "metadata": {
        "id": "PsZh0pz56iJM"
      },
      "execution_count": null,
      "outputs": []
    },
    {
      "cell_type": "markdown",
      "source": [
        "# Beta e Alfa diversidade (Análises preliminares)"
      ],
      "metadata": {
        "id": "AqDUKg2LUyg0"
      }
    },
    {
      "cell_type": "markdown",
      "source": [
        "--p-sampling-depth de 21300 (DADA2), 11500 (Deblur)"
      ],
      "metadata": {
        "id": "KABDusjz2WPR"
      }
    },
    {
      "cell_type": "code",
      "source": [
        "qiime diversity core-metrics-phylogenetic  \\\n",
        "--i-phylogeny rooted-tree.qza  \\\n",
        "--i-table asv-table-woAMC.qza  \\\n",
        "--p-sampling-depth 21300  \\\n",
        "--output-dir core-metrics-results_naive  \\\n",
        "--m-metadata-file metadatafile.tsv"
      ],
      "metadata": {
        "id": "EH5xT3pj2R4a"
      },
      "execution_count": null,
      "outputs": []
    },
    {
      "cell_type": "markdown",
      "source": [
        "Convertendo dados de alfadiversidade em arquivos qzv."
      ],
      "metadata": {
        "id": "zGVSMBYc2kcf"
      }
    },
    {
      "cell_type": "code",
      "source": [
        "cp metadatafile.tsv core-metrics-results/metadatafile.tsv\n",
        "cd core-metrics-results"
      ],
      "metadata": {
        "id": "hiLoAdnk3DNp"
      },
      "execution_count": null,
      "outputs": []
    },
    {
      "cell_type": "code",
      "source": [
        "qiime diversity alpha-group-significance \\\n",
        "--i-alpha-diversity shannon_vector.qza \\\n",
        "--m-metadata-file metadatafile.tsv \\\n",
        "--o-visualization shannon-significance.qzv\n",
        " \n",
        "qiime diversity alpha-correlation \\\n",
        "--i-alpha-diversity shannon_vector.qza \\\n",
        "--m-metadata-file metadatafile.tsv \\\n",
        "--o-visualization shannon-significance-association.qzv\n",
        " \n",
        "qiime diversity alpha-group-significance \\\n",
        "--i-alpha-diversity observed_features_vector.qza \\\n",
        "--m-metadata-file metadatafile.tsv \\\n",
        "--o-visualization observed_features-significance.qzv\n",
        " \n",
        "qiime diversity alpha-correlation \\\n",
        "--i-alpha-diversity observed_features_vector.qza \\\n",
        "--m-metadata-file metadatafile.tsv \\\n",
        "--o-visualization observed-features-significance-association.qzv\n",
        " \n",
        "qiime diversity alpha-group-significance \\\n",
        "--i-alpha-diversity faith_pd_vector.qza \\\n",
        "--m-metadata-file metadatafile.tsv \\\n",
        "--o-visualization faith_pd_vector-significance.qzv\n",
        " \n",
        "qiime diversity alpha-correlation \\\n",
        "--i-alpha-diversity faith_pd_vector.qza \\\n",
        "--m-metadata-file metadatafile.tsv \\\n",
        "--o-visualization faith_pd_vector-significance-association.qzv"
      ],
      "metadata": {
        "id": "yblRF4iC3U6l"
      },
      "execution_count": null,
      "outputs": []
    },
    {
      "cell_type": "markdown",
      "source": [
        "Como fazer BARPLOTS"
      ],
      "metadata": {
        "id": "K6GvR-au-jhA"
      }
    },
    {
      "cell_type": "code",
      "source": [
        "cp taxonomy.qza core-metrics-results/taxonomy.qza\n",
        "cd core-metrics-results\n",
        "\n",
        "qiime taxa barplot \\\n",
        "--i-table rarefied_table.qza \\\n",
        "--i-taxonomy taxonomy.qza \\\n",
        "--m-metadata-file metadatafile.tsv \\\n",
        "--o-visualization barplot.qzv"
      ],
      "metadata": {
        "id": "z6DpFs7D-quH"
      },
      "execution_count": null,
      "outputs": []
    }
  ]
}